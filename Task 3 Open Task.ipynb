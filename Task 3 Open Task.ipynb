{
 "cells": [
  {
   "cell_type": "markdown",
   "id": "c5b2d586",
   "metadata": {},
   "source": [
    "# Task-3\n",
    "Please comment on quantum computing or quantum machine learning. You can also comment on one quantum algorithm or one quantum software you are familiar with. You can also suggest methods you think are good and you would like to work on. Please use your own understanding. Comments copied from the internet will not be considered."
   ]
  },
  {
   "cell_type": "markdown",
   "id": "797ac79c",
   "metadata": {},
   "source": [
    "### Quantum Computing and Quantum Machine Learning:\n",
    "\n",
    "Today, when someone tells me “Quantum Computing” I envision a tool, a perfect candidate, that could help solve many of mankind’s modern -21st century problems like Climate Change, Earthquake Modelling, Cancer Research, Drug discovery etc. These can’t be solved due to the resource limitations in classical realm.\n",
    "\n",
    "Another “big thing” that aims to help mankind with such problems is Machine Learning. It is important because we don’t have to know about the laws that govern these phenomena and the computer gets to learn them on its own! So why not combine the two???\n",
    "\n",
    "Enter: Quantum Machine Learning.\n",
    "\n",
    "Quantum Machine Learning is already being explored by a lot of researchers and hyped in the Machine Learning community. In my opinion (and as it is seen generally) the Simplest way of going about it is by incorporating Quantum computing to classical Machine learning algorithms. Basically use the Quantum speed up to replace the classical subroutines with a bad complexity\n",
    "\n",
    "For eg. Let’s take the case of Linear Classifiers. We use feature maps and quantum kernels to map the data into higher dimensional space and build linear classifiers there. However the computing resources required grows really fast with increase in dimensionality. Quantum computers help by accessing really high and complex dimensional spaces and provide the “Quantum Advantage” here! I have worked with this algorithm for MNIST classification recently. I obtained an accuracy which was comparable to using the classical Radial Basis Function. I believe that with a better Ansatz the Quantum version could outperform their classical counterparts.\n",
    "\n",
    "Other advantages include great generalization of VQCs with less training examples, therefore speeding up the training processes.\n",
    "This could help train powerful ML algorithms in data deficient fields like some areas of Geophysics. \n",
    "\n",
    "But like many in the field, I also believe that we shouldn't restrict ourselves to \"enhancing the classical algorithms.\" We should start thinking of novel ways of making use of the Quantum Realm to understand what \"learning\" is in the truest sense and therefore come up with totally new algorithms that don't have to do anything with the classical ways of going about things.\n",
    "\n",
    "There is certainly a great potential in the field and it needs to be actively explored. I wish to be one of these people who could contribute to the growing field."
   ]
  },
  {
   "cell_type": "markdown",
   "id": "dab00ec5",
   "metadata": {},
   "source": [
    "### Some Comments on QAOA:\n",
    "\n",
    "For the one algorithm I should write about, I will choose QAOA since my ongoing research is based on its application to integer factorisation. I will give an intuitive overview of the algorithm. \n",
    "\n",
    "QAOA stands for Quantum Approximate Optimisation Algorithm. QAOA is good at finding the approximate solutions for non trivial combinatorial optimization problems like the QUBO. The idea is to encode a well-defined cost function of the given problem into a Hamiltonian. We then use matrix exponentials to convert them into unitary operations. Here in QAOA, our Ansatz is going to be the repeated time evolutions of this Cost unitary and  the Mixer unitary. This idea is sort of borrowed from Adiabatic time evolution to help with the transition from the minima of an easy looking cost landscape represented by the mixer Hamiltonian to the minima of a more complex cost landscape represented by the cost Hamiltonian which we have to originally optimise on. These ideas seem beautiful to me since they've been derived from the laws of nature.\n",
    "\n",
    "On measurement, this quantum part would calculate the corresponding eigen-value of the Hamiltonian and return it to the classical part.  The classical part would tune the parameters using classical optimizers and return it back to the quantum part. This process continues until we (approximately) find the minimum or ground state Hamiltonian (the corresponding minimum eigenvalue) which would correspond to the optimal solution of our optimization problem. I feel this is the best part as we need to have algorithms that could be executed on the currently available - \"NISQ\" devices. \n",
    "\n",
    "I firmly believe that combinatorial optimization problems are at the heart of modern societal problems (for eg. the Travelling salesman problem helping with delivery routes) and therefore solving them would yield great benefits to humanity. QAOA is certainly a great candidate to help with these as proven by some research. But there are several other researchers who criticize the algorithm and claim that it yields no quantum advantage. So this in my opinion is one of the most interesting areas of research in optimization problems and the future will have a lot to tell about it."
   ]
  },
  {
   "cell_type": "markdown",
   "id": "9c47ee95",
   "metadata": {},
   "source": [
    "### On methods that I feel are good:\n",
    "\n",
    "Like I mentioned in section-1, I would like to dedicate my future to work on thinking \"Quantumly\" about Machine Learning rather than using Quantum Computing to enhance the existing classical ones. This method of thinking is great because I believe that QML can help with difficult areas like interpretable AI and related fields. I further believe that by understanding what learning means we could in essence understand and solve one of the biggest mysteries to mankind - \"How does the Human brain learn.\" So this is something that I would like to work on (if not the near future,i.e in this GSOC project) sometime in the future."
   ]
  }
 ],
 "metadata": {
  "kernelspec": {
   "display_name": "Python 3 (ipykernel)",
   "language": "python",
   "name": "python3"
  },
  "language_info": {
   "codemirror_mode": {
    "name": "ipython",
    "version": 3
   },
   "file_extension": ".py",
   "mimetype": "text/x-python",
   "name": "python",
   "nbconvert_exporter": "python",
   "pygments_lexer": "ipython3",
   "version": "3.8.8"
  }
 },
 "nbformat": 4,
 "nbformat_minor": 5
}

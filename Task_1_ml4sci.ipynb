{
  "nbformat": 4,
  "nbformat_minor": 0,
  "metadata": {
    "colab": {
      "provenance": []
    },
    "kernelspec": {
      "name": "python3",
      "display_name": "Python 3"
    },
    "language_info": {
      "name": "python"
    }
  },
  "cells": [
    {
      "cell_type": "markdown",
      "source": [
        "# Task 1:"
      ],
      "metadata": {
        "id": "fJ_0EMJlBKdN"
      }
    },
    {
      "cell_type": "markdown",
      "source": [
        "I shall be using Cirq to complete all the tasks\n",
        "\n",
        "Let's start by installing and importing Cirq."
      ],
      "metadata": {
        "id": "95IcWaPiBKgw"
      }
    },
    {
      "cell_type": "code",
      "source": [
        "!pip install --quiet cirq"
      ],
      "metadata": {
        "id": "MJG7V44HB4Pk"
      },
      "execution_count": 1,
      "outputs": []
    },
    {
      "cell_type": "code",
      "execution_count": 2,
      "metadata": {
        "id": "CfbBTobMAl9X"
      },
      "outputs": [],
      "source": [
        "# general imports\n",
        "import math\n",
        "import numpy as np\n",
        "import matplotlib.pyplot as plt\n",
        "\n",
        "# importing cirq\n",
        "import cirq"
      ]
    },
    {
      "cell_type": "code",
      "source": [
        "# print the current cirq version in use\n",
        "print(f\"Cirq version: {cirq.__version__}\")"
      ],
      "metadata": {
        "colab": {
          "base_uri": "https://localhost:8080/"
        },
        "id": "tWp_ovcnB9kM",
        "outputId": "93535f0e-b297-4ca4-946c-4da315eed56c"
      },
      "execution_count": 3,
      "outputs": [
        {
          "output_type": "stream",
          "name": "stdout",
          "text": [
            "Cirq version: 1.1.0\n"
          ]
        }
      ]
    },
    {
      "cell_type": "markdown",
      "source": [
        "1) Implementing a simple quantum operation with Cirq:\n",
        "\n",
        "- With 5 qubits \n",
        "- Apply Hadamard operation on every qubit \n",
        "- Apply CNOT operation on (0, 1), (1,2), (2,3), (3,4) \n",
        "- SWAP (0, 4) \n",
        "- Rotate X with pi/2 on any qubit \n",
        "- Plot the circuit \n"
      ],
      "metadata": {
        "id": "vE9qDgapA1D1"
      }
    },
    {
      "cell_type": "markdown",
      "source": [
        "### Building the required circuit:\n",
        "Note: There's a more effecient way of implementing the code in the cell below. I have done it in the following way just to show the steps."
      ],
      "metadata": {
        "id": "rgX3XlZiE3U-"
      }
    },
    {
      "cell_type": "code",
      "source": [
        "# Initializing a circuit\n",
        "my_circuit = cirq.Circuit()\n",
        "\n",
        "# Initializing the qubits\n",
        "num_qubits = 5\n",
        "my_qubits = cirq.LineQubit.range(num_qubits)\n",
        "\n",
        "# For applying Hadarmard on all qubits\n",
        "H_layer = cirq.Moment(cirq.H.on_each(my_qubits))\n",
        "my_circuit.append(H_layer)\n",
        "\n",
        "# Applying the required CNOTs\n",
        "my_circuit.append([\n",
        "  cirq.CNOT(my_qubits[i],my_qubits[i+1]) for i in range(num_qubits - 1)\n",
        "])\n",
        "\n",
        "# Applying SWAP on qubits 0 and 4\n",
        "my_circuit.append(cirq.SWAP(my_qubits[0],my_qubits[4]))\n",
        "\n",
        "# Applying an X rotation of pi/4 on the first qubit\n",
        "rx = cirq.rx(math.pi/4)\n",
        "my_circuit.append(rx(my_qubits[0]))\n",
        "\n",
        "# Plotting the circuit (printing it)\n",
        "print(my_circuit)"
      ],
      "metadata": {
        "colab": {
          "base_uri": "https://localhost:8080/"
        },
        "id": "FmrBCFP0CLVg",
        "outputId": "657a983b-a2f4-480c-8421-1c2a4ab3a952"
      },
      "execution_count": 4,
      "outputs": [
        {
          "output_type": "stream",
          "name": "stdout",
          "text": [
            "0: ───H───@───────────────×───Rx(0.25π)───\n",
            "          │               │\n",
            "1: ───H───X───@───────────┼───────────────\n",
            "              │           │\n",
            "2: ───H───────X───@───────┼───────────────\n",
            "                  │       │\n",
            "3: ───H───────────X───@───┼───────────────\n",
            "                      │   │\n",
            "4: ───H───────────────X───×───────────────\n"
          ]
        }
      ]
    },
    {
      "cell_type": "markdown",
      "source": [
        "2) Implement a second circuit with a framework of your choice:\n",
        "\n",
        "- Apply a Hadmard gate to the first qubit\n",
        "- Rotate the second qubit by pi/3 around X\n",
        "- Apply Hadamard gate to the third and fourth qubit\n",
        "- Perform a swap test between the states of the first and second qubit |q1 q2> and the third and fourth qubit |q3 q4>\n"
      ],
      "metadata": {
        "id": "VAoUMSplIrxL"
      }
    },
    {
      "cell_type": "code",
      "source": [
        "# Initializing the circuit\n",
        "my_circuit_2 = cirq.Circuit()\n",
        "\n",
        "# Initializing 4 qubits\n",
        "num_qubits_2 = 4\n",
        "my_qubits_2 = cirq.LineQubit.range(4)\n",
        "\n",
        "# Creating an instance of rotation gate with pi/3 rotation around X\n",
        "rx = cirq.rx(math.pi/3)\n",
        "\n",
        "# adding the required gates\n",
        "my_circuit_2.append([\n",
        "    cirq.H(my_qubits_2[0]),\n",
        "    rx(my_qubits_2[1]),\n",
        "    cirq.H(my_qubits_2[2]),\n",
        "    cirq.H(my_qubits_2[3])\n",
        "])\n",
        "\n",
        "print(my_circuit_2)"
      ],
      "metadata": {
        "colab": {
          "base_uri": "https://localhost:8080/"
        },
        "id": "pKYLSbeWFrKV",
        "outputId": "80fe3324-f253-4c43-8552-4456a0a08bc1"
      },
      "execution_count": 5,
      "outputs": [
        {
          "output_type": "stream",
          "name": "stdout",
          "text": [
            "0: ───H────────────\n",
            "\n",
            "1: ───Rx(0.333π)───\n",
            "\n",
            "2: ───H────────────\n",
            "\n",
            "3: ───H────────────\n"
          ]
        }
      ]
    },
    {
      "cell_type": "markdown",
      "source": [
        "### Swap test\n",
        "\n",
        "The swap test is used to measure the similarity (in terms of the dot product) of two qubits.\n",
        "\n",
        "By looking at the circuit above we should obtain that the:\n",
        "- qubits 0 and 1 are not similar i.e, have a dot product less than 1\n",
        "- qubits 2 and 3 are similar and should have a dot product equal to 1"
      ],
      "metadata": {
        "id": "EQoaIB-bhvbO"
      }
    },
    {
      "cell_type": "code",
      "source": [
        "# The swap test circuit for q0 and q1:\n",
        "\n",
        "my_circuit_2_1 = cirq.Circuit()\n",
        "num_qubits_2 = 4\n",
        "my_qubits_2 = cirq.LineQubit.range(4)\n",
        "rx = cirq.rx(math.pi/3)\n",
        "my_circuit_2_1.append([\n",
        "    cirq.H(my_qubits_2[0]),\n",
        "    rx(my_qubits_2[1]),\n",
        "    cirq.H(my_qubits_2[2]),\n",
        "    cirq.H(my_qubits_2[3])\n",
        "])\n",
        "\n",
        "swap_01 = cirq.NamedQubit('for <q0|q1>')\n",
        "my_circuit_2_1.append([\n",
        "    cirq.H(swap_01),\n",
        "    cirq.CSWAP(swap_01,my_qubits_2[0],my_qubits_2[1]),\n",
        "    cirq.H(swap_01)  \n",
        "])\n",
        "\n",
        "my_circuit_2_1.append(cirq.measure(swap_01))\n",
        "\n",
        "sim = cirq.Simulator()\n",
        "result = sim.run(my_circuit_2_1, repetitions = 50)\n",
        "cirq.plot_state_histogram(result)"
      ],
      "metadata": {
        "colab": {
          "base_uri": "https://localhost:8080/",
          "height": 312
        },
        "id": "G9ECplQPc8j0",
        "outputId": "c6ab8b53-5cb7-4c67-daa4-68360e9f7fe0"
      },
      "execution_count": 6,
      "outputs": [
        {
          "output_type": "execute_result",
          "data": {
            "text/plain": [
              "<AxesSubplot:title={'center':'Result State Histogram'}, xlabel='qubit state', ylabel='result count'>"
            ]
          },
          "metadata": {},
          "execution_count": 6
        },
        {
          "output_type": "display_data",
          "data": {
            "text/plain": [
              "<Figure size 432x288 with 1 Axes>"
            ],
            "image/png": "[encoded data removed]"
          },
          "metadata": {
            "needs_background": "light"
          }
        }
      ]
    },
    {
      "cell_type": "markdown",
      "source": [
        "$$<q0|q1>^2  = 1 - 2*\\frac{count_{|1>}}{shots}$$ \n",
        "\n",
        "where $\\frac{count_{|1>}}{shots} = P(|1>)$\n",
        "\n",
        "\n",
        "$$<q0|q1>^2  = 1 - \\frac{2}{50}*15$$\n",
        "\n",
        "$$<q0|q1>^2 = 0.4$$\n",
        "\n",
        "Which implies that both the state $|q0> and\\ |q1>$ are not the same."
      ],
      "metadata": {
        "id": "kmE31Sr-e29S"
      }
    },
    {
      "cell_type": "code",
      "source": [
        "# The swap test circuit for q2 and q3:\n",
        "\n",
        "my_circuit_2_2 = cirq.Circuit()\n",
        "num_qubits_2 = 4\n",
        "my_qubits_2 = cirq.LineQubit.range(4)\n",
        "rx = cirq.rx(math.pi/3)\n",
        "my_circuit_2_2.append([\n",
        "    cirq.H(my_qubits_2[0]),\n",
        "    rx(my_qubits_2[1]),\n",
        "    cirq.H(my_qubits_2[2]),\n",
        "    cirq.H(my_qubits_2[3])\n",
        "])\n",
        "\n",
        "swap_23 = cirq.NamedQubit('for <q2|q3>')\n",
        "my_circuit_2_2.append([\n",
        "    cirq.H(swap_23),\n",
        "    cirq.CSWAP(swap_23,my_qubits_2[2],my_qubits_2[3]),\n",
        "    cirq.H(swap_23)  \n",
        "])\n",
        "\n",
        "my_circuit_2_2.append(cirq.measure(swap_23))\n",
        "\n",
        "sim = cirq.Simulator()\n",
        "result = sim.run(my_circuit_2_2, repetitions = 50)\n",
        "cirq.plot_state_histogram(result)"
      ],
      "metadata": {
        "colab": {
          "base_uri": "https://localhost:8080/",
          "height": 312
        },
        "id": "MLKFMhoEeSVR",
        "outputId": "61393599-3e4f-4180-9737-944f05221c64"
      },
      "execution_count": 7,
      "outputs": [
        {
          "output_type": "execute_result",
          "data": {
            "text/plain": [
              "<AxesSubplot:title={'center':'Result State Histogram'}, xlabel='qubit state', ylabel='result count'>"
            ]
          },
          "metadata": {},
          "execution_count": 7
        },
        {
          "output_type": "display_data",
          "data": {
            "text/plain": [
              "<Figure size 432x288 with 1 Axes>"
            ],
            "image/png": "[encoded data removed]"
          },
          "metadata": {
            "needs_background": "light"
          }
        }
      ]
    },
    {
      "cell_type": "markdown",
      "source": [
        "$$<q2|q3>^2  = 1 - 2*\\frac{count_{|1>}}{shots}$$ \n",
        "\n",
        "where $\\frac{count_{|1>}}{shots} = P(|1>)$\n",
        "\n",
        "\n",
        "$$<q2|q3>^2  = 1 - \\frac{2}{50}*0$$\n",
        "\n",
        "$$<q2|q3>^2 = 1$$\n",
        "\n",
        "\n",
        "Which implies that both the state $|q2> and \\ |q3>$ are the same."
      ],
      "metadata": {
        "id": "VJolx5cRhHmU"
      }
    }
  ]
}